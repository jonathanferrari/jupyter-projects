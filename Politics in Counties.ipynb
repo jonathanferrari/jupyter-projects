{
 "cells": [
  {
   "cell_type": "markdown",
   "metadata": {},
   "source": [
    "# COVID-19, Demographics, and Political Affiliation\n",
    "## A Machine Learning Project focused on the 2020 Presidential Election\n",
    "### by [Jonathan Ferrari](https://www.linkedin.com/in/jonathan-ferrari-46b84419b/)"
   ]
  },
  {
   "cell_type": "markdown",
   "metadata": {},
   "source": [
    "### Introduction\n",
    "During the pandemic, it has become glaringly obvious that COVID-19 has affected us all, for better or worse. However, it seems many Americans have vastly different opinions on the issue; covid has become a political issue. So, I decided to dig deeper into the relation, using topics from data science to build a machine learning algorithm that makes predictions based upon this information. An algorithm with a high accuracy will signal that there is a likely relation between demographics/COVID-19 statistics and political affiliation of a county."
   ]
  },
  {
   "cell_type": "markdown",
   "metadata": {},
   "source": [
    "### Abstract\n",
    "In this notebook, I will create a [k-NN (k-nearest neighbors)](https://en.wikipedia.org/wiki/K-nearest_neighbors_algorithm) classifier which takes as its features information about COVID-19 in a certain county and demographic information about that county. The classifier will return a prediction for who won the 2020 Presidential election in this county. The techniques I will use in this project include, but are not limited to: **markdown, $\\LaTeX$, importing libraries and `.csv` files, table manipulation, data cleaning and filtering, defining functions, statistical distribution analysis, for loops, and basic machine learning.**\n",
    "\n",
    "*Note:* I will use first-person-plural pronouns, such as $\\text{\"we\"}$ and $\\text{\"our\"}$. In doing so, I refer only to myself and the reader.\n",
    "\n",
    "**Definitions:**\n",
    "\n",
    "[Classifiers](https://monkeylearn.com/blog/what-is-a-classifier/):A classifier in machine learning is an algorithm that automatically orders or categorizes data into one or more of a set of “classes.” One of the most common examples is an email classifier that scans emails to filter them by class label: Spam or Not Spam.\n",
    "\n",
    "[Per Capita](https://www.thebalance.com/per-capita-what-it-means-calculation-how-to-use-it-3305876): Per capita means per person. It is a Latin term that translates to \"by the head.\" It's commonly used in statistics, economics, and business to report an average per person. It tells you how a country, state, or city affects its residents."
   ]
  },
  {
   "cell_type": "markdown",
   "metadata": {},
   "source": [
    "***Note***: For further clarification of any terms in this project or for information on any basic topic in data science, please refer to [*Computational and Inferential Thinking: The Foundations of Data Science*](https://inferentialthinking.com/chapters/intro.html), by [Ani Adhikari](http://statistics.berkeley.edu/people/ani-adhikari), and [John DeNero](http://denero.org/), with contributions from [David Wagner](https://people.eecs.berkeley.edu/~daw/) and [Henry Milner](https://amplab.cs.berkeley.edu/author/henrym/)."
   ]
  },
  {
   "cell_type": "markdown",
   "metadata": {},
   "source": [
    "### Set-up\n",
    "Here, we import all of the libraries necessary to complete this project"
   ]
  },
  {
   "cell_type": "code",
   "execution_count": 20,
   "metadata": {},
   "outputs": [],
   "source": [
    "from datascience import *\n",
    "import numpy as np\n",
    "from math import *\n",
    "import math as math\n",
    "import scipy.stats\n",
    "%matplotlib inline\n",
    "import matplotlib.pyplot as plots\n",
    "plots.style.use('fivethirtyeight')\n",
    "import pandas as pd\n",
    "from IPython.display import *"
   ]
  },
  {
   "cell_type": "markdown",
   "metadata": {},
   "source": [
    "Next, we will load 4 `.csv` files with information needed to build the classifier (and drop unnecessesary data), aquired from [New York Times](https://github.com/nytimes/covid-19-data), [The EPA](https://www.epa.gov/sites/production/files/2016-04/ozone-county-population.xlsx), [Polico and New York Times](https://github.com/tonmcg/US_County_Level_Election_Results_08-20/blob/master/2020_US_County_Level_Presidential_Results.csv), and [The Cencus Bureau](https://www.openintro.org/data/?data=county_complete)"
   ]
  },
  {
   "cell_type": "code",
   "execution_count": 21,
   "metadata": {},
   "outputs": [
    {
     "data": {
      "text/html": [
       "<table border=\"1\" class=\"dataframe\">\n",
       "    <thead>\n",
       "        <tr>\n",
       "            <th>county</th> <th>state</th> <th>fips</th> <th>cases</th> <th>deaths</th>\n",
       "        </tr>\n",
       "    </thead>\n",
       "    <tbody>\n",
       "        <tr>\n",
       "            <td>Autauga</td> <td>Alabama</td> <td>1001</td> <td>7150 </td> <td>111   </td>\n",
       "        </tr>\n",
       "        <tr>\n",
       "            <td>Baldwin</td> <td>Alabama</td> <td>1003</td> <td>21661</td> <td>311   </td>\n",
       "        </tr>\n",
       "        <tr>\n",
       "            <td>Barbour</td> <td>Alabama</td> <td>1005</td> <td>2337 </td> <td>59    </td>\n",
       "        </tr>\n",
       "        <tr>\n",
       "            <td>Bibb   </td> <td>Alabama</td> <td>1007</td> <td>2665 </td> <td>64    </td>\n",
       "        </tr>\n",
       "        <tr>\n",
       "            <td>Blount </td> <td>Alabama</td> <td>1009</td> <td>6887 </td> <td>139   </td>\n",
       "        </tr>\n",
       "    </tbody>\n",
       "</table>\n",
       "<p>... (3242 rows omitted)</p>"
      ],
      "text/plain": [
       "<IPython.core.display.HTML object>"
      ]
     },
     "metadata": {},
     "output_type": "display_data"
    }
   ],
   "source": [
    "covid_county = Table().read_table('us-counties.csv').drop(0,6,7,8,9)\n",
    "covid_county.show(5)"
   ]
  },
  {
   "cell_type": "code",
   "execution_count": 22,
   "metadata": {},
   "outputs": [
    {
     "data": {
      "text/html": [
       "<table border=\"1\" class=\"dataframe\">\n",
       "    <thead>\n",
       "        <tr>\n",
       "            <th>fips</th> <th> 2015 POPULATION </th>\n",
       "        </tr>\n",
       "    </thead>\n",
       "    <tbody>\n",
       "        <tr>\n",
       "            <td>1001</td> <td> 55,347          </td>\n",
       "        </tr>\n",
       "        <tr>\n",
       "            <td>1003</td> <td> 203,709         </td>\n",
       "        </tr>\n",
       "        <tr>\n",
       "            <td>1005</td> <td> 26,489          </td>\n",
       "        </tr>\n",
       "        <tr>\n",
       "            <td>1007</td> <td> 22,583          </td>\n",
       "        </tr>\n",
       "        <tr>\n",
       "            <td>1009</td> <td> 57,673          </td>\n",
       "        </tr>\n",
       "    </tbody>\n",
       "</table>\n",
       "<p>... (3229 rows omitted)</p>"
      ],
      "text/plain": [
       "<IPython.core.display.HTML object>"
      ]
     },
     "metadata": {},
     "output_type": "display_data"
    }
   ],
   "source": [
    "pop_county = Table().read_table('county-population.csv').select(7,5)\n",
    "pop_county.show(5)"
   ]
  },
  {
   "cell_type": "code",
   "execution_count": 23,
   "metadata": {},
   "outputs": [
    {
     "data": {
      "text/html": [
       "<table border=\"1\" class=\"dataframe\">\n",
       "    <thead>\n",
       "        <tr>\n",
       "            <th>fips</th> <th>per_gop</th> <th>per_dem</th>\n",
       "        </tr>\n",
       "    </thead>\n",
       "    <tbody>\n",
       "        <tr>\n",
       "            <td>1001</td> <td>0.714368</td> <td>0.270184 </td>\n",
       "        </tr>\n",
       "        <tr>\n",
       "            <td>1003</td> <td>0.761714</td> <td>0.22409  </td>\n",
       "        </tr>\n",
       "        <tr>\n",
       "            <td>1005</td> <td>0.534512</td> <td>0.457882 </td>\n",
       "        </tr>\n",
       "        <tr>\n",
       "            <td>1007</td> <td>0.784263</td> <td>0.206983 </td>\n",
       "        </tr>\n",
       "        <tr>\n",
       "            <td>1009</td> <td>0.895716</td> <td>0.0956938</td>\n",
       "        </tr>\n",
       "    </tbody>\n",
       "</table>\n",
       "<p>... (3147 rows omitted)</p>"
      ],
      "text/plain": [
       "<IPython.core.display.HTML object>"
      ]
     },
     "metadata": {},
     "output_type": "display_data"
    }
   ],
   "source": [
    "elect_county = Table().read_table('county-elections.csv').select(1,7,8).relabel(0,'fips')\n",
    "elect_county.show(5)"
   ]
  },
  {
   "cell_type": "code",
   "execution_count": 24,
   "metadata": {},
   "outputs": [
    {
     "data": {
      "text/html": [
       "<table border=\"1\" class=\"dataframe\">\n",
       "    <thead>\n",
       "        <tr>\n",
       "            <th>fips</th> <th>pop2017</th> <th>median_age_2019</th> <th>white_2019</th> <th>hs_grad_2019</th> <th>bachelors_2019</th> <th>median_household_income_2019</th> <th>poverty_2019</th> <th>unemployment_rate_2019</th>\n",
       "        </tr>\n",
       "    </thead>\n",
       "    <tbody>\n",
       "        <tr>\n",
       "            <td>1001</td> <td>55504  </td> <td>38.2           </td> <td>76.8      </td> <td>88.5        </td> <td>26.6          </td> <td>58731                       </td> <td>15.2        </td> <td>3.5                   </td>\n",
       "        </tr>\n",
       "        <tr>\n",
       "            <td>1003</td> <td>212628 </td> <td>43             </td> <td>86.2      </td> <td>90.8        </td> <td>31.9          </td> <td>58320                       </td> <td>10.4        </td> <td>4                     </td>\n",
       "        </tr>\n",
       "        <tr>\n",
       "            <td>1005</td> <td>25270  </td> <td>40.4           </td> <td>46.8      </td> <td>73.2        </td> <td>11.6          </td> <td>32525                       </td> <td>30.7        </td> <td>9.4                   </td>\n",
       "        </tr>\n",
       "        <tr>\n",
       "            <td>1007</td> <td>22668  </td> <td>40.9           </td> <td>76.8      </td> <td>79.1        </td> <td>10.4          </td> <td>47542                       </td> <td>nan         </td> <td>7                     </td>\n",
       "        </tr>\n",
       "        <tr>\n",
       "            <td>1009</td> <td>58013  </td> <td>40.7           </td> <td>95.5      </td> <td>80.5        </td> <td>13.1          </td> <td>49358                       </td> <td>13.6        </td> <td>3.1                   </td>\n",
       "        </tr>\n",
       "    </tbody>\n",
       "</table>\n",
       "<p>... (3137 rows omitted)</p>"
      ],
      "text/plain": [
       "<IPython.core.display.HTML object>"
      ]
     },
     "metadata": {},
     "output_type": "display_data"
    }
   ],
   "source": [
    "complete = Table().read_table('county_complete.csv').drop(3,4,5,6,7,8,9,10).select(0,1,2,3,'median_age_2019', 'white_2019','hs_grad_2019','bachelors_2019','median_household_income_2019','poverty_2019','unemployment_rate_2019','white_2019').drop(1,2)\n",
    "complete.show(5)"
   ]
  },
  {
   "cell_type": "markdown",
   "metadata": {},
   "source": [
    "Now, we'll clean up the data from these tables, and join them into one table which can be used to build the classifer."
   ]
  },
  {
   "cell_type": "code",
   "execution_count": 25,
   "metadata": {},
   "outputs": [
    {
     "data": {
      "text/html": [
       "<table border=\"1\" class=\"dataframe\">\n",
       "    <thead>\n",
       "        <tr>\n",
       "            <th>fips</th> <th>county</th> <th>state</th> <th>cases</th> <th>deaths</th> <th>population</th> <th>per_gop</th> <th>per_dem</th> <th>pop2017</th> <th>median_age_2019</th> <th>white_2019</th> <th>hs_grad_2019</th> <th>bachelors_2019</th> <th>median_household_income_2019</th> <th>poverty_2019</th> <th>unemployment_rate_2019</th>\n",
       "        </tr>\n",
       "    </thead>\n",
       "    <tbody>\n",
       "        <tr>\n",
       "            <td>1001</td> <td>Autauga</td> <td>Alabama</td> <td>7150 </td> <td>111   </td> <td> 55,347   </td> <td>0.714368</td> <td>0.270184 </td> <td>55504  </td> <td>38.2           </td> <td>76.8      </td> <td>88.5        </td> <td>26.6          </td> <td>58731                       </td> <td>15.2        </td> <td>3.5                   </td>\n",
       "        </tr>\n",
       "        <tr>\n",
       "            <td>1003</td> <td>Baldwin</td> <td>Alabama</td> <td>21661</td> <td>311   </td> <td> 203,709  </td> <td>0.761714</td> <td>0.22409  </td> <td>212628 </td> <td>43             </td> <td>86.2      </td> <td>90.8        </td> <td>31.9          </td> <td>58320                       </td> <td>10.4        </td> <td>4                     </td>\n",
       "        </tr>\n",
       "        <tr>\n",
       "            <td>1005</td> <td>Barbour</td> <td>Alabama</td> <td>2337 </td> <td>59    </td> <td> 26,489   </td> <td>0.534512</td> <td>0.457882 </td> <td>25270  </td> <td>40.4           </td> <td>46.8      </td> <td>73.2        </td> <td>11.6          </td> <td>32525                       </td> <td>30.7        </td> <td>9.4                   </td>\n",
       "        </tr>\n",
       "        <tr>\n",
       "            <td>1007</td> <td>Bibb   </td> <td>Alabama</td> <td>2665 </td> <td>64    </td> <td> 22,583   </td> <td>0.784263</td> <td>0.206983 </td> <td>22668  </td> <td>40.9           </td> <td>76.8      </td> <td>79.1        </td> <td>10.4          </td> <td>47542                       </td> <td>nan         </td> <td>7                     </td>\n",
       "        </tr>\n",
       "        <tr>\n",
       "            <td>1009</td> <td>Blount </td> <td>Alabama</td> <td>6887 </td> <td>139   </td> <td> 57,673   </td> <td>0.895716</td> <td>0.0956938</td> <td>58013  </td> <td>40.7           </td> <td>95.5      </td> <td>80.5        </td> <td>13.1          </td> <td>49358                       </td> <td>13.6        </td> <td>3.1                   </td>\n",
       "        </tr>\n",
       "    </tbody>\n",
       "</table>\n",
       "<p>... (3101 rows omitted)</p>"
      ],
      "text/plain": [
       "<IPython.core.display.HTML object>"
      ]
     },
     "metadata": {},
     "output_type": "display_data"
    }
   ],
   "source": [
    "county = covid_county.join('fips',pop_county).relabel(5, 'population')\n",
    "county = county.where(3, are.above_or_equal_to(0)).where(4, are.above_or_equal_to(0)).where(0, are.below(60000))\n",
    "counties_1 = county.join('fips', elect_county)\n",
    "counties = counties_1.join('fips',complete)\n",
    "counties.show(5)"
   ]
  },
  {
   "cell_type": "markdown",
   "metadata": {},
   "source": [
    "Next, we will relabel the columns of the `counties` table"
   ]
  },
  {
   "cell_type": "code",
   "execution_count": 26,
   "metadata": {},
   "outputs": [
    {
     "data": {
      "text/html": [
       "<table border=\"1\" class=\"dataframe\">\n",
       "    <thead>\n",
       "        <tr>\n",
       "            <th>fips</th> <th>county</th> <th>state</th> <th>cases</th> <th>deaths</th> <th>per_gop</th> <th>per_dem</th> <th>pop</th> <th>median age</th> <th>white</th> <th>hs grad</th> <th>bachelors</th> <th>median household income</th> <th>poverty</th> <th>unemployment</th>\n",
       "        </tr>\n",
       "    </thead>\n",
       "    <tbody>\n",
       "        <tr>\n",
       "            <td>1001</td> <td>Autauga</td> <td>Alabama</td> <td>7150 </td> <td>111   </td> <td>0.714368</td> <td>0.270184 </td> <td>55504 </td> <td>38.2      </td> <td>76.8 </td> <td>88.5   </td> <td>26.6     </td> <td>58731                  </td> <td>15.2   </td> <td>3.5         </td>\n",
       "        </tr>\n",
       "        <tr>\n",
       "            <td>1003</td> <td>Baldwin</td> <td>Alabama</td> <td>21661</td> <td>311   </td> <td>0.761714</td> <td>0.22409  </td> <td>212628</td> <td>43        </td> <td>86.2 </td> <td>90.8   </td> <td>31.9     </td> <td>58320                  </td> <td>10.4   </td> <td>4           </td>\n",
       "        </tr>\n",
       "        <tr>\n",
       "            <td>1005</td> <td>Barbour</td> <td>Alabama</td> <td>2337 </td> <td>59    </td> <td>0.534512</td> <td>0.457882 </td> <td>25270 </td> <td>40.4      </td> <td>46.8 </td> <td>73.2   </td> <td>11.6     </td> <td>32525                  </td> <td>30.7   </td> <td>9.4         </td>\n",
       "        </tr>\n",
       "        <tr>\n",
       "            <td>1007</td> <td>Bibb   </td> <td>Alabama</td> <td>2665 </td> <td>64    </td> <td>0.784263</td> <td>0.206983 </td> <td>22668 </td> <td>40.9      </td> <td>76.8 </td> <td>79.1   </td> <td>10.4     </td> <td>47542                  </td> <td>nan    </td> <td>7           </td>\n",
       "        </tr>\n",
       "        <tr>\n",
       "            <td>1009</td> <td>Blount </td> <td>Alabama</td> <td>6887 </td> <td>139   </td> <td>0.895716</td> <td>0.0956938</td> <td>58013 </td> <td>40.7      </td> <td>95.5 </td> <td>80.5   </td> <td>13.1     </td> <td>49358                  </td> <td>13.6   </td> <td>3.1         </td>\n",
       "        </tr>\n",
       "    </tbody>\n",
       "</table>\n",
       "<p>... (3101 rows omitted)</p>"
      ],
      "text/plain": [
       "<IPython.core.display.HTML object>"
      ]
     },
     "metadata": {},
     "output_type": "display_data"
    }
   ],
   "source": [
    "counties = counties.drop('population')\n",
    "counties = counties.relabel('pop2017','pop').relabel('median_age_2019', 'median age').relabel('white_2019','white').relabel('hs_grad_2019','hs grad').relabel('bachelors_2019','bachelors')\n",
    "counties = counties.relabel('median_household_income_2019','median household income').relabel('poverty_2019','poverty').relabel('unemployment_rate_2019','unemployment')\n",
    "counties.show(5)"
   ]
  },
  {
   "cell_type": "markdown",
   "metadata": {},
   "source": [
    "In this cell, we will format the `trump` and `biden` columns into percentages and not proportions. The `fix_votes` function does this."
   ]
  },
  {
   "cell_type": "code",
   "execution_count": 27,
   "metadata": {},
   "outputs": [
    {
     "data": {
      "text/html": [
       "<table border=\"1\" class=\"dataframe\">\n",
       "    <thead>\n",
       "        <tr>\n",
       "            <th>fips</th> <th>county</th> <th>state</th> <th>pop</th> <th>cases</th> <th>deaths</th> <th>trump</th> <th>biden</th> <th>median household income</th> <th>unemployed</th> <th>median age</th> <th>white</th> <th>hs grad</th> <th>bachelors</th>\n",
       "        </tr>\n",
       "    </thead>\n",
       "    <tbody>\n",
       "        <tr>\n",
       "            <td>1001</td> <td>Autauga</td> <td>Alabama</td> <td>55504 </td> <td>12.882</td> <td>0.2   </td> <td>71.437</td> <td>27.018</td> <td>58731                  </td> <td>3.5       </td> <td>38.2      </td> <td>76.8 </td> <td>88.5   </td> <td>26.6     </td>\n",
       "        </tr>\n",
       "        <tr>\n",
       "            <td>1003</td> <td>Baldwin</td> <td>Alabama</td> <td>212628</td> <td>10.187</td> <td>0.146 </td> <td>76.171</td> <td>22.409</td> <td>58320                  </td> <td>4         </td> <td>43        </td> <td>86.2 </td> <td>90.8   </td> <td>31.9     </td>\n",
       "        </tr>\n",
       "        <tr>\n",
       "            <td>1005</td> <td>Barbour</td> <td>Alabama</td> <td>25270 </td> <td>9.248 </td> <td>0.233 </td> <td>53.451</td> <td>45.788</td> <td>32525                  </td> <td>9.4       </td> <td>40.4      </td> <td>46.8 </td> <td>73.2   </td> <td>11.6     </td>\n",
       "        </tr>\n",
       "        <tr>\n",
       "            <td>1007</td> <td>Bibb   </td> <td>Alabama</td> <td>22668 </td> <td>11.757</td> <td>0.282 </td> <td>78.426</td> <td>20.698</td> <td>47542                  </td> <td>7         </td> <td>40.9      </td> <td>76.8 </td> <td>79.1   </td> <td>10.4     </td>\n",
       "        </tr>\n",
       "        <tr>\n",
       "            <td>1009</td> <td>Blount </td> <td>Alabama</td> <td>58013 </td> <td>11.871</td> <td>0.24  </td> <td>89.572</td> <td>9.569 </td> <td>49358                  </td> <td>3.1       </td> <td>40.7      </td> <td>95.5 </td> <td>80.5   </td> <td>13.1     </td>\n",
       "        </tr>\n",
       "    </tbody>\n",
       "</table>\n",
       "<p>... (3101 rows omitted)</p>"
      ],
      "text/plain": [
       "<IPython.core.display.HTML object>"
      ]
     },
     "metadata": {},
     "output_type": "display_data"
    }
   ],
   "source": [
    "def fix_votes(x):\n",
    "    \"\"\"Return proportion in rouned percentage form\"\"\"\n",
    "    return round(x*100,3)\n",
    "counties['trump'] = counties.apply(fix_votes,'per_gop')\n",
    "counties['biden'] = counties.apply(fix_votes,'per_dem')\n",
    "data_1 = counties.drop('poverty', 'per_gop', 'per_dem')\n",
    "data = data_1.select(0,1,2,5,3,4,12,13,10,11,6,7,8,9).relabel('unemployment', 'unemployed')\n",
    "data = data.with_columns('cases1',data.column('cases')/data.column('pop'),'deaths1',data.column('deaths')/data.column('pop')).drop('cases', 'deaths')\n",
    "data = data.relabel('cases1','cases').relabel( 'deaths1', 'deaths')\n",
    "c = data.apply(fix_votes, 'cases')\n",
    "d = data.apply(fix_votes, 'deaths')\n",
    "data = data.drop(12,13).with_columns('cases', c, 'deaths', d)\n",
    "data = data.select(0,1,2,3,'cases', 'deaths', 4,5,6,7,8,9,10,11)\n",
    "data.show(5)"
   ]
  },
  {
   "cell_type": "markdown",
   "metadata": {},
   "source": [
    "### The Data\n",
    "In the **`data`** table below, the following columns are represented:\n",
    "\n",
    "***Note: All Alaskan counties have been excluded, as Alaskan election information is not collected by county***\n",
    "\n",
    "`fips`: An identification number given to each county by the Federal Government\n",
    "\n",
    "`county`: The county name\n",
    "\n",
    "`state`: The state that county is in, or the District of Columbia \n",
    "\n",
    "`pop`: The population of the county *(as of 2017)*\n",
    "\n",
    "`cases`: The number of cumulative COVID-19 cases in that county per capita *(as of June 2nd, 2021)*\n",
    "\n",
    "`deaths`: The number of cumulative COVID-19 deaths in that county per capita *(as of June 2nd, 2021)*\n",
    "\n",
    "`trump`: The percent of votes that were cast for Donald J. Trump in that county in the 2020 Presidential Election\n",
    "\n",
    "`biden`: The percent of votes that were cast for Joesph R. Biden in that county in the 2020 Presidential Election\n",
    "\n",
    "`median household income`: The median household income of that county *(as of 2019)*\n",
    "\n",
    "`unemployed`: The unemployment rate in that county *(as of 2019)*\n",
    "\n",
    "`median age`: The median age of that county *(as of 2019)*\n",
    "\n",
    "`white`: The percent of residents of that county that are white *(as of 2019)*\n",
    "\n",
    "`hs grad`: The percent of residents of that county that have graduated high school *(as of 2019)*\n",
    "\n",
    "`bachelors`: The percent of residents of that county that have graduated college with a bachelor's degree *(as of 2019)*"
   ]
  },
  {
   "cell_type": "code",
   "execution_count": 28,
   "metadata": {},
   "outputs": [
    {
     "data": {
      "text/html": [
       "<table border=\"1\" class=\"dataframe\">\n",
       "    <thead>\n",
       "        <tr>\n",
       "            <th>fips</th> <th>county</th> <th>state</th> <th>pop</th> <th>cases</th> <th>deaths</th> <th>trump</th> <th>biden</th> <th>median household income</th> <th>unemployed</th> <th>median age</th> <th>white</th> <th>hs grad</th> <th>bachelors</th>\n",
       "        </tr>\n",
       "    </thead>\n",
       "    <tbody>\n",
       "        <tr>\n",
       "            <td>1001</td> <td>Autauga</td> <td>Alabama</td> <td>55504 </td> <td>12.882</td> <td>0.2   </td> <td>71.437</td> <td>27.018</td> <td>58731                  </td> <td>3.5       </td> <td>38.2      </td> <td>76.8 </td> <td>88.5   </td> <td>26.6     </td>\n",
       "        </tr>\n",
       "        <tr>\n",
       "            <td>1003</td> <td>Baldwin</td> <td>Alabama</td> <td>212628</td> <td>10.187</td> <td>0.146 </td> <td>76.171</td> <td>22.409</td> <td>58320                  </td> <td>4         </td> <td>43        </td> <td>86.2 </td> <td>90.8   </td> <td>31.9     </td>\n",
       "        </tr>\n",
       "        <tr>\n",
       "            <td>1005</td> <td>Barbour</td> <td>Alabama</td> <td>25270 </td> <td>9.248 </td> <td>0.233 </td> <td>53.451</td> <td>45.788</td> <td>32525                  </td> <td>9.4       </td> <td>40.4      </td> <td>46.8 </td> <td>73.2   </td> <td>11.6     </td>\n",
       "        </tr>\n",
       "        <tr>\n",
       "            <td>1007</td> <td>Bibb   </td> <td>Alabama</td> <td>22668 </td> <td>11.757</td> <td>0.282 </td> <td>78.426</td> <td>20.698</td> <td>47542                  </td> <td>7         </td> <td>40.9      </td> <td>76.8 </td> <td>79.1   </td> <td>10.4     </td>\n",
       "        </tr>\n",
       "        <tr>\n",
       "            <td>1009</td> <td>Blount </td> <td>Alabama</td> <td>58013 </td> <td>11.871</td> <td>0.24  </td> <td>89.572</td> <td>9.569 </td> <td>49358                  </td> <td>3.1       </td> <td>40.7      </td> <td>95.5 </td> <td>80.5   </td> <td>13.1     </td>\n",
       "        </tr>\n",
       "    </tbody>\n",
       "</table>\n",
       "<p>... (3101 rows omitted)</p>"
      ],
      "text/plain": [
       "<IPython.core.display.HTML object>"
      ]
     },
     "metadata": {},
     "output_type": "display_data"
    }
   ],
   "source": [
    "data.show(5)"
   ]
  },
  {
   "cell_type": "markdown",
   "metadata": {},
   "source": [
    "We will now modify the **`data`** table to make our classification easier. The first step we will make is identifying which candidate won in each county. To do this, we will define the `votes` function as below and create an **`election`** table with only the voting percentages. Then, we will save this new array."
   ]
  },
  {
   "cell_type": "code",
   "execution_count": 29,
   "metadata": {},
   "outputs": [],
   "source": [
    "def vote(x,y):\n",
    "    \"\"\"Return plurality winner in Presidential Election\"\"\"\n",
    "    if x>y:\n",
    "        return 'Trump'\n",
    "    elif y>x:\n",
    "        return 'Biden'\n",
    "    else:\n",
    "        return 'Tie'\n",
    "votes = data.select('trump', 'biden')\n",
    "winner = votes.apply(vote,0,1)\n",
    "fips = data.column('fips')"
   ]
  },
  {
   "cell_type": "markdown",
   "metadata": {},
   "source": [
    "We now create 2 tables, one with the categorical data, and one with the numerical data. We will also drop the vote % of each candidate, as we hace the `winner` array, so they are no longer relavent."
   ]
  },
  {
   "cell_type": "code",
   "execution_count": 30,
   "metadata": {},
   "outputs": [],
   "source": [
    "cat = data.select(0,1,2).with_column('winner', winner)\n",
    "num = data.select(3,4,5,8,9,10,11,12,13)"
   ]
  },
  {
   "cell_type": "markdown",
   "metadata": {},
   "source": [
    "Now, because the units in each column are different, we want to convert the data into [*standard units*](https://www.stat.berkeley.edu/~stark/SticiGui/Text/computeR.htm#:~:text=Standard%20units%20are%20a%20way,the%20mean%20of%20the%20data.) or *z-score* so that all the data has the same weight in our classifier. We will do this by defining the `s_u` and `standardize` functions"
   ]
  },
  {
   "cell_type": "code",
   "execution_count": 31,
   "metadata": {},
   "outputs": [],
   "source": [
    "def s_u(array):\n",
    "    \"\"\"Return array in standard units\"\"\"\n",
    "    return (array-np.mean(array))/np.std(array)\n",
    "def standardize(table):\n",
    "    \"\"\"Return a table in standard units\"\"\"\n",
    "    t = Table()\n",
    "    for column in np.array(table.labels):\n",
    "        col = s_u(table.column(column))\n",
    "        t = t.with_column(column,col)\n",
    "    return t"
   ]
  },
  {
   "cell_type": "markdown",
   "metadata": {},
   "source": [
    "Now, each value represents how many standard deviations it is above or below the mean of that column. We can now call the `standardize` function on the `num` table, and add the `fips` column so we can join all the data back into one table. "
   ]
  },
  {
   "cell_type": "code",
   "execution_count": 32,
   "metadata": {},
   "outputs": [
    {
     "data": {
      "text/html": [
       "<table border=\"1\" class=\"dataframe\">\n",
       "    <thead>\n",
       "        <tr>\n",
       "            <th>fips</th> <th>county</th> <th>state</th> <th>winner</th> <th>pop</th> <th>cases</th> <th>deaths</th> <th>median household income</th> <th>unemployed</th> <th>median age</th> <th>white</th> <th>hs grad</th> <th>bachelors</th>\n",
       "        </tr>\n",
       "    </thead>\n",
       "    <tbody>\n",
       "        <tr>\n",
       "            <td>1001</td> <td>Autauga</td> <td>Alabama</td> <td>Trump </td> <td>-0.141733</td> <td>0.909967  </td> <td>-0.0287858</td> <td>0.383516               </td> <td>-0.550973 </td> <td>-0.608552 </td> <td>-0.399307</td> <td>0.251456</td> <td>0.487353 </td>\n",
       "        </tr>\n",
       "        <tr>\n",
       "            <td>1003</td> <td>Baldwin</td> <td>Alabama</td> <td>Trump </td> <td>0.338787 </td> <td>-0.0038243</td> <td>-0.510629 </td> <td>0.354379               </td> <td>-0.354464 </td> <td>0.283253  </td> <td>0.176396 </td> <td>0.618838</td> <td>1.04212  </td>\n",
       "        </tr>\n",
       "        <tr>\n",
       "            <td>1005</td> <td>Barbour</td> <td>Alabama</td> <td>Trump </td> <td>-0.234195</td> <td>-0.32221  </td> <td>0.265674  </td> <td>-1.47431               </td> <td>1.76784   </td> <td>-0.199808 </td> <td>-2.23666 </td> <td>-2.19243</td> <td>-1.08275 </td>\n",
       "        </tr>\n",
       "        <tr>\n",
       "            <td>1007</td> <td>Bibb   </td> <td>Alabama</td> <td>Trump </td> <td>-0.242152</td> <td>0.528514  </td> <td>0.702903  </td> <td>-0.409707              </td> <td>0.824593  </td> <td>-0.106912 </td> <td>-0.399307</td> <td>-1.25002</td> <td>-1.20836 </td>\n",
       "        </tr>\n",
       "        <tr>\n",
       "            <td>1009</td> <td>Blount </td> <td>Alabama</td> <td>Trump </td> <td>-0.134059</td> <td>0.567168  </td> <td>0.328135  </td> <td>-0.280965              </td> <td>-0.708181 </td> <td>-0.14407  </td> <td>0.745974 </td> <td>-1.02639</td> <td>-0.925743</td>\n",
       "        </tr>\n",
       "    </tbody>\n",
       "</table>\n",
       "<p>... (3101 rows omitted)</p>"
      ],
      "text/plain": [
       "<IPython.core.display.HTML object>"
      ]
     },
     "metadata": {},
     "output_type": "display_data"
    }
   ],
   "source": [
    "stan_num = standardize(num)\n",
    "stan_num_fips = stan_num.with_column('fips', fips)\n",
    "full = cat.join('fips', stan_num_fips)\n",
    "full.show(5)"
   ]
  },
  {
   "cell_type": "markdown",
   "metadata": {},
   "source": [
    "As is standard practice in machine learning, we will now randomly split the data into 2 sets, `train` which will be used to train our algorithm, and `test` which will be used to evaulate the efficiency of our classifier."
   ]
  },
  {
   "cell_type": "code",
   "execution_count": 33,
   "metadata": {},
   "outputs": [],
   "source": [
    "shuf_full = full.sample(with_replacement = False)\n",
    "training = shuf_full.take(np.arange(1606))\n",
    "test = shuf_full.take(np.arange(1606,3106))"
   ]
  },
  {
   "cell_type": "markdown",
   "metadata": {},
   "source": [
    "We'll now only work with the `training` table until we have built our classifier. But first, let's define some functions we will need. \n",
    "\n",
    "`distance`: finds euclidean distance between two points\n",
    "\n",
    "`row_distance`: uses previous function to find distance between two row objects\n",
    "\n",
    "`distances`: creates a new table: `training` with one more column, which contains the distance from each row to the given example\n",
    "\n",
    "`closest`: creates a new table with only the $k$ closest rows\n",
    "\n",
    "`majority_class`: finds the class of the majority of the rows in a given table\n",
    "\n",
    "`classify_1`: calls `majority_class` on the table from `closest` to return our classifiers prediction"
   ]
  },
  {
   "cell_type": "code",
   "execution_count": 34,
   "metadata": {},
   "outputs": [],
   "source": [
    "def distance(pt1, pt2):\n",
    "    \"\"\"Return the distance between two points, represented as arrays\"\"\"\n",
    "    return np.sqrt(sum((pt1 - pt2)**2))\n",
    "\n",
    "def row_distance(row1, row2):\n",
    "    \"\"\"Return the distance between two numerical rows of a table\"\"\"\n",
    "    return distance(np.array(row1), np.array(row2))\n",
    "\n",
    "def distances(training, example):\n",
    "    \"\"\"Return training table with distances column\"\"\"\n",
    "    distances = make_array()\n",
    "    attributes_only = training.drop('winner',0,1,2)    \n",
    "    for row in attributes_only.rows:\n",
    "        distances = np.append(distances, row_distance(row, example))\n",
    "    return training.with_column('Distance', distances)\n",
    "\n",
    "def closest(training, example, k):\n",
    "    \"\"\"\n",
    "    Return a table of the k closest neighbors to example\n",
    "    \"\"\"\n",
    "    return distances(training, example).sort('Distance').take(np.arange(k))\n",
    "\n",
    "def majority_class(topk):\n",
    "    \"\"\"Return the class with the highest count\"\"\"\n",
    "    return topk.group('winner').sort('count', descending=True).column(0).item(0)\n",
    "\n",
    "def classify_1(training, example, k):\n",
    "    \"\"\"Return the majority class among the k nearest neighbors of example\"\"\"\n",
    "    return majority_class(closest(training, example, k))"
   ]
  },
  {
   "cell_type": "markdown",
   "metadata": {},
   "source": [
    "Here, we define one more function, `accuracy`, which evaluates the efficiency of `classifier` on the `test` set, by comparing the predictions and the actual, and returning the percentage of times `classify` was correct."
   ]
  },
  {
   "cell_type": "code",
   "execution_count": 35,
   "metadata": {},
   "outputs": [],
   "source": [
    "def accuracy(training, test, k):\n",
    "    \"\"\"Return the proportion of correctly classified examples \n",
    "    in the test set\"\"\"\n",
    "    test_attributes = test.drop('winner',0,1,2)\n",
    "    num_correct = 0\n",
    "    for i in np.arange(test.num_rows):\n",
    "        c = classify_1(training, test_attributes.row(i), k)\n",
    "        num_correct = num_correct + (c == test.column('winner').item(i))\n",
    "    return (num_correct / test.num_rows)*100"
   ]
  },
  {
   "cell_type": "markdown",
   "metadata": {},
   "source": [
    "With some trial and error, we can find that the optimal amount of points to base our prediiction off of is $k=13$, this $k$ leads to an accuracy. on the `test` set of $92.6\\%$"
   ]
  },
  {
   "cell_type": "code",
   "execution_count": 46,
   "metadata": {},
   "outputs": [
    {
     "data": {
      "text/plain": [
       "92.6"
      ]
     },
     "execution_count": 46,
     "metadata": {},
     "output_type": "execute_result"
    }
   ],
   "source": [
    "accuracy(training, test, 13)"
   ]
  },
  {
   "cell_type": "markdown",
   "metadata": {},
   "source": [
    "Thus, we will define the final *k-NN* function `classify`, which makes its prediction using $k=13$ inherently, and the `full` table. "
   ]
  },
  {
   "cell_type": "code",
   "execution_count": 37,
   "metadata": {},
   "outputs": [],
   "source": [
    "def classify(example):\n",
    "    return classify_1(full, example ,13)"
   ]
  },
  {
   "cell_type": "markdown",
   "metadata": {},
   "source": [
    "Finally, we can create a new function `predict` which, given a state and county name, will make a prediction using $k=13$ and return the actual result for comparison. This will use the `full` table. "
   ]
  },
  {
   "cell_type": "code",
   "execution_count": 38,
   "metadata": {},
   "outputs": [],
   "source": [
    "def predict(state, county):\n",
    "    ex = full.where('state', state).where('county', county)\n",
    "    example = ex.drop(0,1,2,3).row(0)\n",
    "    result = classify(example)\n",
    "    print('My algorithm predicts that', result, 'won the 2020 Presidential election in', county,',',state)\n",
    "    return full.where('state',state).where('county',county).select(0,2,1,3)"
   ]
  },
  {
   "cell_type": "markdown",
   "metadata": {},
   "source": [
    "Below I show a few examples of the `predict` function in action."
   ]
  },
  {
   "cell_type": "code",
   "execution_count": 39,
   "metadata": {},
   "outputs": [
    {
     "name": "stdout",
     "output_type": "stream",
     "text": [
      "My algorithm predicts that Trump won the 2020 Presidential election in Yuba , California\n"
     ]
    },
    {
     "data": {
      "text/html": [
       "<table border=\"1\" class=\"dataframe\">\n",
       "    <thead>\n",
       "        <tr>\n",
       "            <th>fips</th> <th>state</th> <th>county</th> <th>winner</th>\n",
       "        </tr>\n",
       "    </thead>\n",
       "    <tbody>\n",
       "        <tr>\n",
       "            <td>6115</td> <td>California</td> <td>Yuba  </td> <td>Trump </td>\n",
       "        </tr>\n",
       "    </tbody>\n",
       "</table>"
      ],
      "text/plain": [
       "fips | state      | county | winner\n",
       "6115 | California | Yuba   | Trump"
      ]
     },
     "execution_count": 39,
     "metadata": {},
     "output_type": "execute_result"
    }
   ],
   "source": [
    "predict('California','Yuba')"
   ]
  },
  {
   "cell_type": "code",
   "execution_count": 40,
   "metadata": {},
   "outputs": [
    {
     "name": "stdout",
     "output_type": "stream",
     "text": [
      "My algorithm predicts that Trump won the 2020 Presidential election in Frio , Texas\n"
     ]
    },
    {
     "data": {
      "text/html": [
       "<table border=\"1\" class=\"dataframe\">\n",
       "    <thead>\n",
       "        <tr>\n",
       "            <th>fips</th> <th>state</th> <th>county</th> <th>winner</th>\n",
       "        </tr>\n",
       "    </thead>\n",
       "    <tbody>\n",
       "        <tr>\n",
       "            <td>48163</td> <td>Texas</td> <td>Frio  </td> <td>Trump </td>\n",
       "        </tr>\n",
       "    </tbody>\n",
       "</table>"
      ],
      "text/plain": [
       "fips  | state | county | winner\n",
       "48163 | Texas | Frio   | Trump"
      ]
     },
     "execution_count": 40,
     "metadata": {},
     "output_type": "execute_result"
    }
   ],
   "source": [
    "predict('Texas','Frio')"
   ]
  },
  {
   "cell_type": "code",
   "execution_count": 41,
   "metadata": {},
   "outputs": [
    {
     "name": "stdout",
     "output_type": "stream",
     "text": [
      "My algorithm predicts that Biden won the 2020 Presidential election in Nassau , New York\n"
     ]
    },
    {
     "data": {
      "text/html": [
       "<table border=\"1\" class=\"dataframe\">\n",
       "    <thead>\n",
       "        <tr>\n",
       "            <th>fips</th> <th>state</th> <th>county</th> <th>winner</th>\n",
       "        </tr>\n",
       "    </thead>\n",
       "    <tbody>\n",
       "        <tr>\n",
       "            <td>36059</td> <td>New York</td> <td>Nassau</td> <td>Biden </td>\n",
       "        </tr>\n",
       "    </tbody>\n",
       "</table>"
      ],
      "text/plain": [
       "fips  | state    | county | winner\n",
       "36059 | New York | Nassau | Biden"
      ]
     },
     "execution_count": 41,
     "metadata": {},
     "output_type": "execute_result"
    }
   ],
   "source": [
    "predict('New York','Nassau')"
   ]
  },
  {
   "cell_type": "code",
   "execution_count": 42,
   "metadata": {},
   "outputs": [
    {
     "name": "stdout",
     "output_type": "stream",
     "text": [
      "My algorithm predicts that Trump won the 2020 Presidential election in Brown , Nebraska\n"
     ]
    },
    {
     "data": {
      "text/html": [
       "<table border=\"1\" class=\"dataframe\">\n",
       "    <thead>\n",
       "        <tr>\n",
       "            <th>fips</th> <th>state</th> <th>county</th> <th>winner</th>\n",
       "        </tr>\n",
       "    </thead>\n",
       "    <tbody>\n",
       "        <tr>\n",
       "            <td>31017</td> <td>Nebraska</td> <td>Brown </td> <td>Trump </td>\n",
       "        </tr>\n",
       "    </tbody>\n",
       "</table>"
      ],
      "text/plain": [
       "fips  | state    | county | winner\n",
       "31017 | Nebraska | Brown  | Trump"
      ]
     },
     "execution_count": 42,
     "metadata": {},
     "output_type": "execute_result"
    }
   ],
   "source": [
    "predict('Nebraska','Brown')"
   ]
  },
  {
   "cell_type": "code",
   "execution_count": 43,
   "metadata": {},
   "outputs": [
    {
     "name": "stdout",
     "output_type": "stream",
     "text": [
      "My algorithm predicts that Trump won the 2020 Presidential election in Lee , Illinois\n"
     ]
    },
    {
     "data": {
      "text/html": [
       "<table border=\"1\" class=\"dataframe\">\n",
       "    <thead>\n",
       "        <tr>\n",
       "            <th>fips</th> <th>state</th> <th>county</th> <th>winner</th>\n",
       "        </tr>\n",
       "    </thead>\n",
       "    <tbody>\n",
       "        <tr>\n",
       "            <td>17103</td> <td>Illinois</td> <td>Lee   </td> <td>Trump </td>\n",
       "        </tr>\n",
       "    </tbody>\n",
       "</table>"
      ],
      "text/plain": [
       "fips  | state    | county | winner\n",
       "17103 | Illinois | Lee    | Trump"
      ]
     },
     "execution_count": 43,
     "metadata": {},
     "output_type": "execute_result"
    }
   ],
   "source": [
    "predict('Illinois','Lee')"
   ]
  },
  {
   "cell_type": "code",
   "execution_count": 44,
   "metadata": {},
   "outputs": [
    {
     "name": "stdout",
     "output_type": "stream",
     "text": [
      "My algorithm predicts that Biden won the 2020 Presidential election in Bolivar , Mississippi\n"
     ]
    },
    {
     "data": {
      "text/html": [
       "<table border=\"1\" class=\"dataframe\">\n",
       "    <thead>\n",
       "        <tr>\n",
       "            <th>fips</th> <th>state</th> <th>county</th> <th>winner</th>\n",
       "        </tr>\n",
       "    </thead>\n",
       "    <tbody>\n",
       "        <tr>\n",
       "            <td>28011</td> <td>Mississippi</td> <td>Bolivar</td> <td>Biden </td>\n",
       "        </tr>\n",
       "    </tbody>\n",
       "</table>"
      ],
      "text/plain": [
       "fips  | state       | county  | winner\n",
       "28011 | Mississippi | Bolivar | Biden"
      ]
     },
     "execution_count": 44,
     "metadata": {},
     "output_type": "execute_result"
    }
   ],
   "source": [
    "predict('Mississippi','Bolivar')"
   ]
  },
  {
   "cell_type": "markdown",
   "metadata": {},
   "source": [
    "### Conclusion and Discussion\n",
    "As we can see from the $92.6\\%$ accuracy of the `classify` function, given basic demographic information about a county, and its COVID-19 total case and total death count per-capita, we can conclude that it is likely that the identity of a county's residents and its reaction to the COVID-19 pandemic do correlate with their political affiliation. \n",
    "\n",
    "It is possible that the ability of the algorithm to predict the winner of each county was due to only the demographics, or only the COVID-19 data. A further project which created classifiers for each type of data could evaluate the accuracy of both to identify where the decision border is clarified. If both have relatively low accuracy, then the association is with both; in the case that only one is high, it can be inferred that the classifier in this project was successful largely because of that set of variables.\n",
    "\n",
    "Another, further, application of this algorithm is evaluating the accuracy of this classifier on other Presidential Elections, for instance, any past elections, or even to future elections, such as the 2024 Presidential Election, or the 2022 Midterm Election. \n",
    "\n",
    "It is clear to see that while this project is limited to the scope of both sets of variables, and the 2020 Presidential Election, there are endless variations that could give even deeper insight into the nature of American politics in the context of the two-party-system."
   ]
  },
  {
   "cell_type": "markdown",
   "metadata": {},
   "source": [
    "If you have any questions about this project or require any clarification on concepts/topics, or need a walkthrough of any of my code, do not hesitate to reach out to me at [jonathanferrari@berkeley.com](mailto:jonathanferrari@berkeley.edu). Cheers!"
   ]
  }
 ],
 "metadata": {
  "kernelspec": {
   "display_name": "Python 3",
   "language": "python",
   "name": "python3"
  },
  "language_info": {
   "codemirror_mode": {
    "name": "ipython",
    "version": 3
   },
   "file_extension": ".py",
   "mimetype": "text/x-python",
   "name": "python",
   "nbconvert_exporter": "python",
   "pygments_lexer": "ipython3",
   "version": "3.8.8"
  }
 },
 "nbformat": 4,
 "nbformat_minor": 4
}
